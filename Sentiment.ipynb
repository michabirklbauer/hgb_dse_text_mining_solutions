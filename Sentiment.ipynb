{
 "cells": [
  {
   "cell_type": "markdown",
   "id": "4c6dc631-bce1-4e18-b15a-c8840c7bf71b",
   "metadata": {},
   "source": [
    "# Sarcasm Detection in News Headlines with Neural Nets\n",
    "\n",
    "### Loading the data\n",
    "\n",
    "In the following we will use the **News Headlines Dataset For Sarcasm Detection** by *Rishabh Misra* to build a classifier that can distinguish sarcastic news from serious ones."
   ]
  },
  {
   "cell_type": "code",
   "execution_count": 1,
   "id": "0116b157-752b-4602-901a-c763662d9e55",
   "metadata": {},
   "outputs": [
    {
     "data": {
      "text/html": [
       "<div>\n",
       "<style scoped>\n",
       "    .dataframe tbody tr th:only-of-type {\n",
       "        vertical-align: middle;\n",
       "    }\n",
       "\n",
       "    .dataframe tbody tr th {\n",
       "        vertical-align: top;\n",
       "    }\n",
       "\n",
       "    .dataframe thead th {\n",
       "        text-align: right;\n",
       "    }\n",
       "</style>\n",
       "<table border=\"1\" class=\"dataframe\">\n",
       "  <thead>\n",
       "    <tr style=\"text-align: right;\">\n",
       "      <th></th>\n",
       "      <th>Headline</th>\n",
       "      <th>Label</th>\n",
       "    </tr>\n",
       "  </thead>\n",
       "  <tbody>\n",
       "    <tr>\n",
       "      <th>0</th>\n",
       "      <td>former versace store clerk sues over secret 'b...</td>\n",
       "      <td>0</td>\n",
       "    </tr>\n",
       "    <tr>\n",
       "      <th>1</th>\n",
       "      <td>the 'roseanne' revival catches up to our thorn...</td>\n",
       "      <td>0</td>\n",
       "    </tr>\n",
       "    <tr>\n",
       "      <th>2</th>\n",
       "      <td>mom starting to fear son's web series closest ...</td>\n",
       "      <td>1</td>\n",
       "    </tr>\n",
       "    <tr>\n",
       "      <th>3</th>\n",
       "      <td>boehner just wants wife to listen, not come up...</td>\n",
       "      <td>1</td>\n",
       "    </tr>\n",
       "    <tr>\n",
       "      <th>4</th>\n",
       "      <td>j.k. rowling wishes snape happy birthday in th...</td>\n",
       "      <td>0</td>\n",
       "    </tr>\n",
       "  </tbody>\n",
       "</table>\n",
       "</div>"
      ],
      "text/plain": [
       "                                            Headline  Label\n",
       "0  former versace store clerk sues over secret 'b...      0\n",
       "1  the 'roseanne' revival catches up to our thorn...      0\n",
       "2  mom starting to fear son's web series closest ...      1\n",
       "3  boehner just wants wife to listen, not come up...      1\n",
       "4  j.k. rowling wishes snape happy birthday in th...      0"
      ]
     },
     "execution_count": 1,
     "metadata": {},
     "output_type": "execute_result"
    }
   ],
   "source": [
    "from sklearn.model_selection import train_test_split\n",
    "from sklearn.metrics import confusion_matrix\n",
    "from sklearn.metrics import accuracy_score\n",
    "import matplotlib.pyplot as plt\n",
    "from tqdm import tqdm\n",
    "import pandas as pd\n",
    "import numpy as np\n",
    "import itertools\n",
    "\n",
    "# 0 - no sarcasm, 1 - sarcasm\n",
    "data = pd.read_csv(\"https://raw.githubusercontent.com/michabirklbauer/hgb_dse_text_mining/master/data/Sarcasm/sarcasm.csv\")\n",
    "data.head()"
   ]
  },
  {
   "cell_type": "markdown",
   "id": "75c0eff5-24ea-450b-b6c1-08eb47ec8bfd",
   "metadata": {},
   "source": [
    "### A glimpse at class distributions and baseline"
   ]
  },
  {
   "cell_type": "code",
   "execution_count": 2,
   "id": "63cba2a3-ab75-416c-a9df-74fa593a8379",
   "metadata": {},
   "outputs": [
    {
     "name": "stdout",
     "output_type": "stream",
     "text": [
      "Baseline:  0.5610468381444457\n"
     ]
    },
    {
     "data": {
      "image/png": "[encoded data removed]",
      "text/plain": [
       "<Figure size 640x480 with 1 Axes>"
      ]
     },
     "metadata": {},
     "output_type": "display_data"
    }
   ],
   "source": [
    "print(\"Baseline: \", data[\"Label\"].value_counts()[0] / data.shape[0])\n",
    "data[\"Label\"].value_counts().plot(kind = \"bar\");"
   ]
  },
  {
   "cell_type": "markdown",
   "id": "51b9099d-4780-4590-a84e-8793950de0e7",
   "metadata": {},
   "source": [
    "### Splitting data into a training, validation and test partition to be able to evaluate our model"
   ]
  },
  {
   "cell_type": "code",
   "execution_count": 3,
   "id": "31bcab17-ad88-4ef6-a08e-a549fdc466bf",
   "metadata": {},
   "outputs": [
    {
     "name": "stdout",
     "output_type": "stream",
     "text": [
      "(14956, 2)\n",
      "(6411, 2)\n",
      "(5342, 2)\n"
     ]
    }
   ],
   "source": [
    "not_test, test = train_test_split(data, test_size = 0.2, random_state = 1337)\n",
    "train, val = train_test_split(not_test, test_size = 0.3, random_state = 1337)\n",
    "print(train.shape)\n",
    "print(val.shape)\n",
    "print(test.shape)"
   ]
  },
  {
   "cell_type": "markdown",
   "id": "f1cbdfae-7c89-4b49-aa9e-f139121bdcbb",
   "metadata": {},
   "source": [
    "### We will use Keras to build our neural net"
   ]
  },
  {
   "cell_type": "code",
   "execution_count": 4,
   "id": "ddac79b1-4116-4afa-a33e-b4d573bf7df2",
   "metadata": {},
   "outputs": [],
   "source": [
    "import tensorflow as tf\n",
    "from tensorflow.keras.models import *\n",
    "from tensorflow.keras.layers import *\n",
    "from tensorflow.keras.preprocessing.text import Tokenizer\n",
    "from tensorflow.keras.preprocessing.sequence import pad_sequences"
   ]
  },
  {
   "cell_type": "markdown",
   "id": "fe515f87-cdd4-44fb-b212-8a28333b0aff",
   "metadata": {},
   "source": [
    "### Model parameters\n",
    "\n",
    "- We will use a vocabulary size of 10 000\n",
    "- We will create word vectors of length 16\n",
    "- Our texts will be max 100 words long\n",
    "  - If they are shorter we will zero-pad them at the end\n",
    "  - If they are longer we will truncate them to 100 from the end\n",
    "- Our Out-Of-Vocabulary token will be \\<OOV>"
   ]
  },
  {
   "cell_type": "code",
   "execution_count": 5,
   "id": "693304c7-8a84-4a36-b034-8d76553ad26b",
   "metadata": {},
   "outputs": [],
   "source": [
    "vocab_size = 10000\n",
    "embedding_dim = 16\n",
    "max_length = 100\n",
    "trunc_type = \"post\"\n",
    "padding_type = \"post\"\n",
    "oov_token = \"<OOV>\""
   ]
  },
  {
   "cell_type": "markdown",
   "id": "3b86a06c-db98-4df1-9c52-5bf228067cad",
   "metadata": {},
   "source": [
    "### Fit the tokenizer to the texts and generate equal length sequences"
   ]
  },
  {
   "cell_type": "code",
   "execution_count": 6,
   "id": "7ce0952f-dd21-40e8-869d-2c1d4a2e3fc8",
   "metadata": {},
   "outputs": [],
   "source": [
    "tokenizer = Tokenizer(num_words = vocab_size, oov_token = oov_token)\n",
    "tokenizer.fit_on_texts(train[\"Headline\"])\n",
    "\n",
    "word_index = tokenizer.word_index\n",
    "\n",
    "training_sequences = tokenizer.texts_to_sequences(train[\"Headline\"])\n",
    "training_padded = pad_sequences(training_sequences, maxlen = max_length, padding = padding_type, truncating = trunc_type)\n",
    "\n",
    "validation_sequences = tokenizer.texts_to_sequences(val[\"Headline\"])\n",
    "validation_padded = pad_sequences(validation_sequences, maxlen = max_length, padding = padding_type, truncating = trunc_type)\n",
    "\n",
    "testing_sequences = tokenizer.texts_to_sequences(test[\"Headline\"])\n",
    "testing_padded = pad_sequences(testing_sequences, maxlen = max_length, padding = padding_type, truncating = trunc_type)"
   ]
  },
  {
   "cell_type": "code",
   "execution_count": 7,
   "id": "4b4ec6d3-1c21-4878-be1d-0b2c1f3c7a57",
   "metadata": {},
   "outputs": [
    {
     "data": {
      "text/html": [
       "<div>\n",
       "<style scoped>\n",
       "    .dataframe tbody tr th:only-of-type {\n",
       "        vertical-align: middle;\n",
       "    }\n",
       "\n",
       "    .dataframe tbody tr th {\n",
       "        vertical-align: top;\n",
       "    }\n",
       "\n",
       "    .dataframe thead th {\n",
       "        text-align: right;\n",
       "    }\n",
       "</style>\n",
       "<table border=\"1\" class=\"dataframe\">\n",
       "  <thead>\n",
       "    <tr style=\"text-align: right;\">\n",
       "      <th></th>\n",
       "      <th>Headline</th>\n",
       "      <th>Label</th>\n",
       "    </tr>\n",
       "  </thead>\n",
       "  <tbody>\n",
       "    <tr>\n",
       "      <th>19575</th>\n",
       "      <td>celebrating christmas</td>\n",
       "      <td>0</td>\n",
       "    </tr>\n",
       "    <tr>\n",
       "      <th>21540</th>\n",
       "      <td>new tsa precheck program offers expedited inte...</td>\n",
       "      <td>1</td>\n",
       "    </tr>\n",
       "    <tr>\n",
       "      <th>371</th>\n",
       "      <td>meet the other baldwin brother, james!</td>\n",
       "      <td>1</td>\n",
       "    </tr>\n",
       "    <tr>\n",
       "      <th>15671</th>\n",
       "      <td>backing devos repeal of obama rules, for-profi...</td>\n",
       "      <td>0</td>\n",
       "    </tr>\n",
       "    <tr>\n",
       "      <th>22616</th>\n",
       "      <td>hillary clinton says she's not ready to take a...</td>\n",
       "      <td>0</td>\n",
       "    </tr>\n",
       "  </tbody>\n",
       "</table>\n",
       "</div>"
      ],
      "text/plain": [
       "                                                Headline  Label\n",
       "19575                              celebrating christmas      0\n",
       "21540  new tsa precheck program offers expedited inte...      1\n",
       "371               meet the other baldwin brother, james!      1\n",
       "15671  backing devos repeal of obama rules, for-profi...      0\n",
       "22616  hillary clinton says she's not ready to take a...      0"
      ]
     },
     "execution_count": 7,
     "metadata": {},
     "output_type": "execute_result"
    }
   ],
   "source": [
    "train.head()"
   ]
  },
  {
   "cell_type": "markdown",
   "id": "e2fe7b01-36eb-41c7-80bc-10a67f622a6a",
   "metadata": {},
   "source": [
    "Bigger index of the word -> less frequent"
   ]
  },
  {
   "cell_type": "code",
   "execution_count": 8,
   "id": "0312d9df-d5e5-4a78-9fd9-4053f6d52209",
   "metadata": {},
   "outputs": [
    {
     "data": {
      "text/plain": [
       "[[3382, 348],\n",
       " [12, 5575, 1, 1097, 738, 1, 1, 6, 570, 1312],\n",
       " [410, 4, 151, 2988, 987, 315],\n",
       " [3910, 1846, 1030, 3, 66, 647, 6, 2413, 3383, 7177, 266],\n",
       " [152, 85, 55, 499, 29, 411, 2, 183, 7, 1502, 8, 1098, 5576, 458]]"
      ]
     },
     "execution_count": 8,
     "metadata": {},
     "output_type": "execute_result"
    }
   ],
   "source": [
    "training_sequences[:5]"
   ]
  },
  {
   "cell_type": "code",
   "execution_count": 9,
   "id": "2e75a1ee-42c4-43e0-8021-8aad08dc903e",
   "metadata": {},
   "outputs": [
    {
     "data": {
      "text/plain": [
       "array([[3382,  348,    0,    0,    0,    0,    0,    0,    0,    0,    0,\n",
       "           0,    0,    0,    0,    0,    0,    0,    0,    0,    0,    0,\n",
       "           0,    0,    0,    0,    0,    0,    0,    0,    0,    0,    0,\n",
       "           0,    0,    0,    0,    0,    0,    0,    0,    0,    0,    0,\n",
       "           0,    0,    0,    0,    0,    0,    0,    0,    0,    0,    0,\n",
       "           0,    0,    0,    0,    0,    0,    0,    0,    0,    0,    0,\n",
       "           0,    0,    0,    0,    0,    0,    0,    0,    0,    0,    0,\n",
       "           0,    0,    0,    0,    0,    0,    0,    0,    0,    0,    0,\n",
       "           0,    0,    0,    0,    0,    0,    0,    0,    0,    0,    0,\n",
       "           0],\n",
       "       [  12, 5575,    1, 1097,  738,    1,    1,    6,  570, 1312,    0,\n",
       "           0,    0,    0,    0,    0,    0,    0,    0,    0,    0,    0,\n",
       "           0,    0,    0,    0,    0,    0,    0,    0,    0,    0,    0,\n",
       "           0,    0,    0,    0,    0,    0,    0,    0,    0,    0,    0,\n",
       "           0,    0,    0,    0,    0,    0,    0,    0,    0,    0,    0,\n",
       "           0,    0,    0,    0,    0,    0,    0,    0,    0,    0,    0,\n",
       "           0,    0,    0,    0,    0,    0,    0,    0,    0,    0,    0,\n",
       "           0,    0,    0,    0,    0,    0,    0,    0,    0,    0,    0,\n",
       "           0,    0,    0,    0,    0,    0,    0,    0,    0,    0,    0,\n",
       "           0],\n",
       "       [ 410,    4,  151, 2988,  987,  315,    0,    0,    0,    0,    0,\n",
       "           0,    0,    0,    0,    0,    0,    0,    0,    0,    0,    0,\n",
       "           0,    0,    0,    0,    0,    0,    0,    0,    0,    0,    0,\n",
       "           0,    0,    0,    0,    0,    0,    0,    0,    0,    0,    0,\n",
       "           0,    0,    0,    0,    0,    0,    0,    0,    0,    0,    0,\n",
       "           0,    0,    0,    0,    0,    0,    0,    0,    0,    0,    0,\n",
       "           0,    0,    0,    0,    0,    0,    0,    0,    0,    0,    0,\n",
       "           0,    0,    0,    0,    0,    0,    0,    0,    0,    0,    0,\n",
       "           0,    0,    0,    0,    0,    0,    0,    0,    0,    0,    0,\n",
       "           0],\n",
       "       [3910, 1846, 1030,    3,   66,  647,    6, 2413, 3383, 7177,  266,\n",
       "           0,    0,    0,    0,    0,    0,    0,    0,    0,    0,    0,\n",
       "           0,    0,    0,    0,    0,    0,    0,    0,    0,    0,    0,\n",
       "           0,    0,    0,    0,    0,    0,    0,    0,    0,    0,    0,\n",
       "           0,    0,    0,    0,    0,    0,    0,    0,    0,    0,    0,\n",
       "           0,    0,    0,    0,    0,    0,    0,    0,    0,    0,    0,\n",
       "           0,    0,    0,    0,    0,    0,    0,    0,    0,    0,    0,\n",
       "           0,    0,    0,    0,    0,    0,    0,    0,    0,    0,    0,\n",
       "           0,    0,    0,    0,    0,    0,    0,    0,    0,    0,    0,\n",
       "           0],\n",
       "       [ 152,   85,   55,  499,   29,  411,    2,  183,    7, 1502,    8,\n",
       "        1098, 5576,  458,    0,    0,    0,    0,    0,    0,    0,    0,\n",
       "           0,    0,    0,    0,    0,    0,    0,    0,    0,    0,    0,\n",
       "           0,    0,    0,    0,    0,    0,    0,    0,    0,    0,    0,\n",
       "           0,    0,    0,    0,    0,    0,    0,    0,    0,    0,    0,\n",
       "           0,    0,    0,    0,    0,    0,    0,    0,    0,    0,    0,\n",
       "           0,    0,    0,    0,    0,    0,    0,    0,    0,    0,    0,\n",
       "           0,    0,    0,    0,    0,    0,    0,    0,    0,    0,    0,\n",
       "           0,    0,    0,    0,    0,    0,    0,    0,    0,    0,    0,\n",
       "           0]])"
      ]
     },
     "execution_count": 9,
     "metadata": {},
     "output_type": "execute_result"
    }
   ],
   "source": [
    "training_padded[:5]"
   ]
  },
  {
   "cell_type": "code",
   "execution_count": 10,
   "id": "09d756b6-6961-4846-abcf-bb01501a6be4",
   "metadata": {},
   "outputs": [],
   "source": [
    "training_padded = np.array(training_padded)\n",
    "training_labels = np.array(train[\"Label\"])\n",
    "validation_padded = np.array(validation_padded)\n",
    "validation_labels = np.array(val[\"Label\"])\n",
    "testing_padded = np.array(testing_padded)\n",
    "testing_labels = np.array(test[\"Label\"])"
   ]
  },
  {
   "cell_type": "markdown",
   "id": "1849da11-6b91-4aa1-96ee-7cb45df480c1",
   "metadata": {},
   "source": [
    "### Building our model"
   ]
  },
  {
   "cell_type": "code",
   "execution_count": 11,
   "id": "5916e4dd-50f8-45ce-9254-d098f8569e18",
   "metadata": {},
   "outputs": [],
   "source": [
    "model = Sequential()\n",
    "model.add(Embedding(vocab_size, embedding_dim, input_length = max_length))\n",
    "model.add(GlobalAveragePooling1D())\n",
    "model.add(Dense(24, activation = \"relu\"))\n",
    "model.add(Dense(1, activation = \"sigmoid\"))\n",
    "\n",
    "# callbacks\n",
    "from tensorflow.keras.callbacks import EarlyStopping, ModelCheckpoint\n",
    "callbacks = []\n",
    "callbacks.append(EarlyStopping(monitor = \"val_loss\", patience = 5, verbose = 0, mode = \"auto\"))\n",
    "callbacks.append(ModelCheckpoint(\"sarcasm_check_.h5\", save_best_only = True, monitor = \"val_loss\", mode = \"min\"))\n",
    "\n",
    "model.compile(loss = \"binary_crossentropy\", optimizer = \"adam\", metrics = [\"accuracy\"])"
   ]
  },
  {
   "cell_type": "code",
   "execution_count": 12,
   "id": "a20927aa-ea72-4f41-a814-c86bcc53f39a",
   "metadata": {},
   "outputs": [
    {
     "name": "stdout",
     "output_type": "stream",
     "text": [
      "Model: \"sequential\"\n",
      "_________________________________________________________________\n",
      " Layer (type)                Output Shape              Param #   \n",
      "=================================================================\n",
      " embedding (Embedding)       (None, 100, 16)           160000    \n",
      "                                                                 \n",
      " global_average_pooling1d (G  (None, 16)               0         \n",
      " lobalAveragePooling1D)                                          \n",
      "                                                                 \n",
      " dense (Dense)               (None, 24)                408       \n",
      "                                                                 \n",
      " dense_1 (Dense)             (None, 1)                 25        \n",
      "                                                                 \n",
      "=================================================================\n",
      "Total params: 160,433\n",
      "Trainable params: 160,433\n",
      "Non-trainable params: 0\n",
      "_________________________________________________________________\n"
     ]
    }
   ],
   "source": [
    "model.summary()"
   ]
  },
  {
   "cell_type": "markdown",
   "id": "b86d445a-bef7-4729-b945-1d79d2b0368c",
   "metadata": {},
   "source": [
    "### Training the model on our data\n",
    "\n",
    "Compare the training with and without callbacks!"
   ]
  },
  {
   "cell_type": "code",
   "execution_count": 13,
   "id": "d52791e2-0a2d-46be-85df-1a2bde458388",
   "metadata": {},
   "outputs": [],
   "source": [
    "# callbacks = []"
   ]
  },
  {
   "cell_type": "code",
   "execution_count": 14,
   "id": "8dbd6a3f-a632-4434-bede-24de0a7ecd05",
   "metadata": {},
   "outputs": [
    {
     "name": "stdout",
     "output_type": "stream",
     "text": [
      "Epoch 1/30\n",
      "468/468 [==============================] - 2s 2ms/step - loss: 0.6767 - accuracy: 0.5608 - val_loss: 0.6371 - val_accuracy: 0.7576\n",
      "Epoch 2/30\n",
      "468/468 [==============================] - 1s 2ms/step - loss: 0.4949 - accuracy: 0.7942 - val_loss: 0.4375 - val_accuracy: 0.7879\n",
      "Epoch 3/30\n",
      "468/468 [==============================] - 1s 2ms/step - loss: 0.3417 - accuracy: 0.8626 - val_loss: 0.3689 - val_accuracy: 0.8400\n",
      "Epoch 4/30\n",
      "468/468 [==============================] - 1s 2ms/step - loss: 0.2783 - accuracy: 0.8913 - val_loss: 0.3487 - val_accuracy: 0.8531\n",
      "Epoch 5/30\n",
      "468/468 [==============================] - 1s 2ms/step - loss: 0.2376 - accuracy: 0.9093 - val_loss: 0.3440 - val_accuracy: 0.8537\n",
      "Epoch 6/30\n",
      "468/468 [==============================] - 1s 2ms/step - loss: 0.2077 - accuracy: 0.9215 - val_loss: 0.3458 - val_accuracy: 0.8517\n",
      "Epoch 7/30\n",
      "468/468 [==============================] - 1s 2ms/step - loss: 0.1788 - accuracy: 0.9349 - val_loss: 0.3555 - val_accuracy: 0.8509\n",
      "Epoch 8/30\n",
      "468/468 [==============================] - 1s 2ms/step - loss: 0.1557 - accuracy: 0.9458 - val_loss: 0.3688 - val_accuracy: 0.8507\n",
      "Epoch 9/30\n",
      "468/468 [==============================] - 1s 2ms/step - loss: 0.1376 - accuracy: 0.9526 - val_loss: 0.3887 - val_accuracy: 0.8479\n",
      "Epoch 10/30\n",
      "468/468 [==============================] - 1s 2ms/step - loss: 0.1191 - accuracy: 0.9604 - val_loss: 0.4115 - val_accuracy: 0.8453\n"
     ]
    }
   ],
   "source": [
    "history = model.fit(training_padded, training_labels, epochs = 30 , validation_data = (validation_padded, validation_labels), callbacks = callbacks, verbose = 1)"
   ]
  },
  {
   "cell_type": "markdown",
   "id": "e257878e-6759-4649-ac2b-32dc15efda17",
   "metadata": {},
   "source": [
    "### Plot training history"
   ]
  },
  {
   "cell_type": "code",
   "execution_count": 15,
   "id": "e5b59dd0-61ba-49bd-b0b4-41f37756a62a",
   "metadata": {},
   "outputs": [
    {
     "data": {
      "image/png": "[encoded data removed]",
      "text/plain": [
       "<Figure size 640x480 with 1 Axes>"
      ]
     },
     "metadata": {},
     "output_type": "display_data"
    },
    {
     "data": {
      "image/png": "[encoded data removed]",
      "text/plain": [
       "<Figure size 640x480 with 1 Axes>"
      ]
     },
     "metadata": {},
     "output_type": "display_data"
    }
   ],
   "source": [
    "def plot_graphs(history, metric):\n",
    "    plt.plot(history.history[metric])\n",
    "    plt.plot(history.history[\"val_\" + metric])\n",
    "    plt.title(\"Model \" +  metric)\n",
    "    plt.xlabel(\"Epochs\")\n",
    "    plt.ylabel(metric)\n",
    "    plt.legend([metric, \"val_\" + metric])\n",
    "    plt.show()\n",
    "    \n",
    "plot_graphs(history, \"accuracy\")\n",
    "plot_graphs(history, \"loss\")"
   ]
  },
  {
   "cell_type": "markdown",
   "id": "05fd5585-8a8a-469e-93e8-dd5c67e2d6bc",
   "metadata": {},
   "source": [
    "### Load best-on-validation model"
   ]
  },
  {
   "cell_type": "code",
   "execution_count": 16,
   "id": "0d1027c1-03cc-4eb0-bbb3-faab911d8653",
   "metadata": {},
   "outputs": [],
   "source": [
    "from tensorflow.keras.models import load_model\n",
    "model = load_model(\"sarcasm_check_.h5\")"
   ]
  },
  {
   "cell_type": "markdown",
   "id": "2b185bce-f6cb-4cc4-a1f9-82cfe62a3f03",
   "metadata": {},
   "source": [
    "### Get predictions"
   ]
  },
  {
   "cell_type": "code",
   "execution_count": 17,
   "id": "7df7a3f2-7ae3-4e89-b7c4-e678872ed650",
   "metadata": {},
   "outputs": [
    {
     "name": "stdout",
     "output_type": "stream",
     "text": [
      "1/1 [==============================] - 0s 64ms/step\n",
      "[[0.94501495]\n",
      " [0.01972622]]\n"
     ]
    }
   ],
   "source": [
    "sentences = [\"single woman getting all dolled up to watch room full of people make out this new year's eve\", \"there were some things to cheer in donald trump's wild press conference\"]\n",
    "sequences = tokenizer.texts_to_sequences(sentences)\n",
    "padded = pad_sequences(sequences, maxlen = max_length, padding = padding_type, truncating = trunc_type)\n",
    "print(model.predict(padded))"
   ]
  },
  {
   "cell_type": "code",
   "execution_count": 18,
   "id": "9deae961-d698-40b7-93b1-4a5e7699d57f",
   "metadata": {},
   "outputs": [
    {
     "name": "stdout",
     "output_type": "stream",
     "text": [
      "468/468 [==============================] - 0s 638us/step\n",
      "201/201 [==============================] - 0s 615us/step\n",
      "167/167 [==============================] - 0s 627us/step\n"
     ]
    }
   ],
   "source": [
    "predictions_train = np.where(model.predict(training_padded) > 0.5, 1, 0)\n",
    "predictions_val = np.where(model.predict(validation_padded) > 0.5, 1, 0)\n",
    "predictions_test = np.where(model.predict(testing_padded) > 0.5, 1, 0)"
   ]
  },
  {
   "cell_type": "markdown",
   "id": "0a4d9567-b73b-404e-842d-470e03954870",
   "metadata": {},
   "source": [
    "### Evaluate model"
   ]
  },
  {
   "cell_type": "code",
   "execution_count": 19,
   "id": "48a6309c-605e-4c1c-8144-c29ed9619b08",
   "metadata": {},
   "outputs": [
    {
     "name": "stdout",
     "output_type": "stream",
     "text": [
      "Training Accuracy:  0.926584648301685\n",
      "Validation Accuracy:  0.8536889720792388\n",
      "Testing Accuracy:  0.850430550355672\n"
     ]
    }
   ],
   "source": [
    "print(\"Training Accuracy: \", accuracy_score(train[\"Label\"], predictions_train))\n",
    "print(\"Validation Accuracy: \", accuracy_score(val[\"Label\"], predictions_val))\n",
    "print(\"Testing Accuracy: \", accuracy_score(test[\"Label\"], predictions_test))"
   ]
  },
  {
   "cell_type": "code",
   "execution_count": 20,
   "id": "ecd277bb-53d4-4da1-bf99-fd39ef90e037",
   "metadata": {},
   "outputs": [],
   "source": [
    "def plot_confusion_matrix(cm, classes, normalize = False, title = \"Confusion matrix\", cmap = plt.cm.Blues):\n",
    "\n",
    "    plt.imshow(cm, interpolation = \"nearest\", cmap = cmap)\n",
    "    plt.title(title)\n",
    "    plt.colorbar()\n",
    "    tick_marks = np.arange(len(classes))\n",
    "    plt.xticks(tick_marks, classes, rotation = 45)\n",
    "    plt.yticks(tick_marks, classes)\n",
    "    \n",
    "    if normalize:\n",
    "        cm = cm.astype(\"float\") / cm.sum(axis = 1)[:, np.newaxis]\n",
    "        print(\"Normalized confusion matrix\")\n",
    "\n",
    "    thresh = cm.max() / 2.\n",
    "    for i, j in itertools.product(range(cm.shape[0]), range(cm.shape[1])):\n",
    "        plt.text(j, i, cm[i, j],\n",
    "                 horizontalalignment = \"center\",\n",
    "                 color=\"white\" if cm[i, j] > thresh else \"black\")\n",
    "\n",
    "    plt.tight_layout()\n",
    "    plt.ylim(len(cm) - 0.5, -0.5)\n",
    "    plt.ylabel(\"True label\")\n",
    "    plt.xlabel(\"Predicted label\")\n",
    "    \n",
    "    return cm"
   ]
  },
  {
   "cell_type": "code",
   "execution_count": 21,
   "id": "129df077-babf-4ea2-b1b0-6f6a741abd09",
   "metadata": {},
   "outputs": [
    {
     "data": {
      "image/png": "[encoded data removed]",
      "text/plain": [
       "<Figure size 640x480 with 2 Axes>"
      ]
     },
     "metadata": {},
     "output_type": "display_data"
    }
   ],
   "source": [
    "conf = confusion_matrix(train[\"Label\"], predictions_train)\n",
    "\n",
    "plt.figure()\n",
    "plot = plot_confusion_matrix(conf, classes = [0, 1], title = \"Confusion Matrix - Training Split\")\n",
    "plt.show()"
   ]
  },
  {
   "cell_type": "code",
   "execution_count": 22,
   "id": "93f60fea-4c23-481c-97f5-932263c8a5eb",
   "metadata": {},
   "outputs": [
    {
     "data": {
      "image/png": "[encoded data removed]",
      "text/plain": [
       "<Figure size 640x480 with 2 Axes>"
      ]
     },
     "metadata": {},
     "output_type": "display_data"
    }
   ],
   "source": [
    "conf = confusion_matrix(val[\"Label\"], predictions_val)\n",
    "\n",
    "plt.figure()\n",
    "plot = plot_confusion_matrix(conf, classes = [0, 1], title = \"Confusion Matrix - Validation Split\")\n",
    "plt.show()"
   ]
  },
  {
   "cell_type": "code",
   "execution_count": 23,
   "id": "bb6410b7-4347-4c4b-8935-9ebfe0e0489d",
   "metadata": {},
   "outputs": [
    {
     "data": {
      "image/png": "[encoded data removed]",
      "text/plain": [
       "<Figure size 640x480 with 2 Axes>"
      ]
     },
     "metadata": {},
     "output_type": "display_data"
    }
   ],
   "source": [
    "conf = confusion_matrix(test[\"Label\"], predictions_test)\n",
    "\n",
    "plt.figure()\n",
    "plot = plot_confusion_matrix(conf, classes = [0, 1], title = \"Confusion Matrix - Testing Split\")\n",
    "plt.show()"
   ]
  },
  {
   "cell_type": "markdown",
   "id": "8e9aecf6-1229-4b71-a0c3-67313a8f2c18",
   "metadata": {},
   "source": [
    "### By generating a reverse index we can also decode our sequences again..."
   ]
  },
  {
   "cell_type": "code",
   "execution_count": 24,
   "id": "9f00f3c1-94a0-4a32-b633-a06e0c6fdb7e",
   "metadata": {},
   "outputs": [
    {
     "name": "stdout",
     "output_type": "stream",
     "text": [
      "celebrating christmas ? ? ? ? ? ? ? ? ? ? ? ? ? ? ? ? ? ? ? ? ? ? ? ? ? ? ? ? ? ? ? ? ? ? ? ? ? ? ? ? ? ? ? ? ? ? ? ? ? ? ? ? ? ? ? ? ? ? ? ? ? ? ? ? ? ? ? ? ? ? ? ? ? ? ? ? ? ? ? ? ? ? ? ? ? ? ? ? ? ? ? ? ? ? ? ? ? ?\n"
     ]
    }
   ],
   "source": [
    "reverse_word_index = dict([(value, key) for (key, value) in word_index.items()])\n",
    "\n",
    "def decode_sentence(text):\n",
    "    return \" \".join([reverse_word_index.get(i, \"?\") for i in text])\n",
    "\n",
    "print(decode_sentence(training_padded[0]))"
   ]
  },
  {
   "cell_type": "markdown",
   "id": "0385b188-1b0b-49dc-8b99-08a69ce7b104",
   "metadata": {},
   "source": [
    "### ...combining that with the weights from our embedding layer we can extract the word vectors that we trained"
   ]
  },
  {
   "cell_type": "code",
   "execution_count": 25,
   "id": "91315deb-7cf1-41a6-9be5-1e7874598d8b",
   "metadata": {},
   "outputs": [
    {
     "name": "stdout",
     "output_type": "stream",
     "text": [
      "(10000, 16)\n"
     ]
    }
   ],
   "source": [
    "e = model.layers[0]\n",
    "weights = e.get_weights()[0]\n",
    "print(weights.shape) # shape: (vocab_size, embedding_dim)"
   ]
  },
  {
   "cell_type": "code",
   "execution_count": 26,
   "id": "3c300b49-c1c1-4497-8790-e1c0c4ea26e5",
   "metadata": {},
   "outputs": [],
   "source": [
    "import io\n",
    "\n",
    "out_v = io.open(\"vecs.tsv\", \"w\", encoding = \"utf-8\")\n",
    "out_m = io.open(\"meta.tsv\", \"w\", encoding = \"utf-8\")\n",
    "for word_num in range(1, vocab_size):\n",
    "    word = reverse_word_index[word_num]\n",
    "    embeddings = weights[word_num]\n",
    "    out_v.write(\"\\t\".join([str(x) for x in embeddings]) + \"\\n\")\n",
    "    out_m.write(word + \"\\n\")\n",
    "out_v.close()\n",
    "out_m.close()"
   ]
  },
  {
   "cell_type": "code",
   "execution_count": 27,
   "id": "5b12fc33-e907-4638-96a3-b60afdb4ec5d",
   "metadata": {},
   "outputs": [],
   "source": [
    "# set colab to true and run this cell if you are working in Google Colab to download the generated files\n",
    "colab = False\n",
    "if colab:\n",
    "    try:\n",
    "        from google.colab import files\n",
    "    except ImportError:\n",
    "        pass\n",
    "    else:\n",
    "        files.download(\"vecs.tsv\")\n",
    "        files.download(\"meta.tsv\")"
   ]
  },
  {
   "cell_type": "markdown",
   "id": "92bbc6fb-3469-4567-86b4-4c400e3ed999",
   "metadata": {
    "tags": []
   },
   "source": [
    "### We can load these files in [http://projector.tensorflow.org/](http://projector.tensorflow.org/) to visualize our embeddings\n",
    "\n",
    "When we sphereize this data we get two clusters because we did binary classification.\n",
    "\n",
    "And clicking a word will show you the closest words in the vector space."
   ]
  },
  {
   "cell_type": "markdown",
   "id": "34543fef-d7c5-440f-9f45-07e8028802a0",
   "metadata": {},
   "source": [
    "# Sentiment Analysis with Transformer Models\n",
    "\n",
    "### Loading the data\n",
    "\n",
    "For this task we will use a sample of the **Amazon Fine Food Reviews Dataset** by *Stanford Network Analysis Project*."
   ]
  },
  {
   "cell_type": "code",
   "execution_count": 28,
   "id": "25515b70-cb4f-46c6-9416-39841bc1091a",
   "metadata": {},
   "outputs": [
    {
     "data": {
      "text/html": [
       "<div>\n",
       "<style scoped>\n",
       "    .dataframe tbody tr th:only-of-type {\n",
       "        vertical-align: middle;\n",
       "    }\n",
       "\n",
       "    .dataframe tbody tr th {\n",
       "        vertical-align: top;\n",
       "    }\n",
       "\n",
       "    .dataframe thead th {\n",
       "        text-align: right;\n",
       "    }\n",
       "</style>\n",
       "<table border=\"1\" class=\"dataframe\">\n",
       "  <thead>\n",
       "    <tr style=\"text-align: right;\">\n",
       "      <th></th>\n",
       "      <th>Id</th>\n",
       "      <th>ProductId</th>\n",
       "      <th>UserId</th>\n",
       "      <th>ProfileName</th>\n",
       "      <th>HelpfulnessNumerator</th>\n",
       "      <th>HelpfulnessDenominator</th>\n",
       "      <th>Score</th>\n",
       "      <th>Time</th>\n",
       "      <th>Summary</th>\n",
       "      <th>Text</th>\n",
       "    </tr>\n",
       "  </thead>\n",
       "  <tbody>\n",
       "    <tr>\n",
       "      <th>0</th>\n",
       "      <td>321760</td>\n",
       "      <td>B001GQ3E3C</td>\n",
       "      <td>A1JUIR28N40DK8</td>\n",
       "      <td>Browser \"Browser\"</td>\n",
       "      <td>0</td>\n",
       "      <td>0</td>\n",
       "      <td>5</td>\n",
       "      <td>1348444800</td>\n",
       "      <td>Yum</td>\n",
       "      <td>Very happy to find a yummy peanut butter that ...</td>\n",
       "    </tr>\n",
       "    <tr>\n",
       "      <th>1</th>\n",
       "      <td>523699</td>\n",
       "      <td>B004779XHI</td>\n",
       "      <td>A2NY9ISFZGYN0I</td>\n",
       "      <td>Cindy W. Mitchell</td>\n",
       "      <td>0</td>\n",
       "      <td>0</td>\n",
       "      <td>5</td>\n",
       "      <td>1321488000</td>\n",
       "      <td>Perfect Cup of Tea (Hot or Cold)</td>\n",
       "      <td>This is the best tea I have ever tasted at hom...</td>\n",
       "    </tr>\n",
       "    <tr>\n",
       "      <th>2</th>\n",
       "      <td>156783</td>\n",
       "      <td>B0051WBSFI</td>\n",
       "      <td>A1IK1XYGTNVLOW</td>\n",
       "      <td>James L. Dusing</td>\n",
       "      <td>0</td>\n",
       "      <td>0</td>\n",
       "      <td>5</td>\n",
       "      <td>1351209600</td>\n",
       "      <td>Great service</td>\n",
       "      <td>Not only is the popcorn terrific and as advert...</td>\n",
       "    </tr>\n",
       "    <tr>\n",
       "      <th>3</th>\n",
       "      <td>303565</td>\n",
       "      <td>B004LVWJSU</td>\n",
       "      <td>A34AA2X54OT6T1</td>\n",
       "      <td>Jo Stump</td>\n",
       "      <td>0</td>\n",
       "      <td>0</td>\n",
       "      <td>4</td>\n",
       "      <td>1344643200</td>\n",
       "      <td>Mistaken price per ounce</td>\n",
       "      <td>I love chives.  They have a mild onion flavor....</td>\n",
       "    </tr>\n",
       "    <tr>\n",
       "      <th>4</th>\n",
       "      <td>32122</td>\n",
       "      <td>B0009F3SAK</td>\n",
       "      <td>A2TZFHJ8X4APGD</td>\n",
       "      <td>Laura</td>\n",
       "      <td>3</td>\n",
       "      <td>6</td>\n",
       "      <td>5</td>\n",
       "      <td>1316476800</td>\n",
       "      <td>It works!</td>\n",
       "      <td>I would rather not go into details. I will say...</td>\n",
       "    </tr>\n",
       "  </tbody>\n",
       "</table>\n",
       "</div>"
      ],
      "text/plain": [
       "       Id   ProductId          UserId        ProfileName  \\\n",
       "0  321760  B001GQ3E3C  A1JUIR28N40DK8  Browser \"Browser\"   \n",
       "1  523699  B004779XHI  A2NY9ISFZGYN0I  Cindy W. Mitchell   \n",
       "2  156783  B0051WBSFI  A1IK1XYGTNVLOW    James L. Dusing   \n",
       "3  303565  B004LVWJSU  A34AA2X54OT6T1           Jo Stump   \n",
       "4   32122  B0009F3SAK  A2TZFHJ8X4APGD              Laura   \n",
       "\n",
       "   HelpfulnessNumerator  HelpfulnessDenominator  Score        Time  \\\n",
       "0                     0                       0      5  1348444800   \n",
       "1                     0                       0      5  1321488000   \n",
       "2                     0                       0      5  1351209600   \n",
       "3                     0                       0      4  1344643200   \n",
       "4                     3                       6      5  1316476800   \n",
       "\n",
       "                            Summary  \\\n",
       "0                               Yum   \n",
       "1  Perfect Cup of Tea (Hot or Cold)   \n",
       "2                     Great service   \n",
       "3          Mistaken price per ounce   \n",
       "4                         It works!   \n",
       "\n",
       "                                                Text  \n",
       "0  Very happy to find a yummy peanut butter that ...  \n",
       "1  This is the best tea I have ever tasted at hom...  \n",
       "2  Not only is the popcorn terrific and as advert...  \n",
       "3  I love chives.  They have a mild onion flavor....  \n",
       "4  I would rather not go into details. I will say...  "
      ]
     },
     "execution_count": 28,
     "metadata": {},
     "output_type": "execute_result"
    }
   ],
   "source": [
    "data = pd.read_csv(\"https://raw.githubusercontent.com/michabirklbauer/hgb_dse_text_mining/master/data/AmazonReviews/Reviews_sample.csv\")\n",
    "data.head()"
   ]
  },
  {
   "cell_type": "code",
   "execution_count": 29,
   "id": "adeee1c3-4311-4040-a89b-7689929d6aac",
   "metadata": {},
   "outputs": [
    {
     "name": "stdout",
     "output_type": "stream",
     "text": [
      "Very happy to find a yummy peanut butter that is still healthy. Shopping for groceries used to be fun, now I have to check everything I buy for gmo, or harmful ingredients. The whole family loves this peanut butter, so win win!\n"
     ]
    }
   ],
   "source": [
    "example = data[\"Text\"][0]\n",
    "print(example)"
   ]
  },
  {
   "cell_type": "markdown",
   "id": "1f92b5ea-38e9-4dca-975a-7c766ee124c7",
   "metadata": {},
   "source": [
    "### We will use TensorFlow models from the *transformers* package"
   ]
  },
  {
   "cell_type": "code",
   "execution_count": 30,
   "id": "1235ddb8-987d-4f96-960c-bb86289eceac",
   "metadata": {},
   "outputs": [
    {
     "name": "stderr",
     "output_type": "stream",
     "text": [
      "C:\\Users\\Micha\\AppData\\Local\\Programs\\Python\\Python310\\lib\\site-packages\\tqdm\\auto.py:22: TqdmWarning: IProgress not found. Please update jupyter and ipywidgets. See https://ipywidgets.readthedocs.io/en/stable/user_install.html\n",
      "  from .autonotebook import tqdm as notebook_tqdm\n"
     ]
    }
   ],
   "source": [
    "from transformers import AutoTokenizer\n",
    "from transformers import TFAutoModelForSequenceClassification\n",
    "from scipy.special import softmax"
   ]
  },
  {
   "cell_type": "markdown",
   "id": "c94ebf11-efac-4b69-ba90-9abfd0d369aa",
   "metadata": {},
   "source": [
    "### Loading roBERTa\n",
    "\n",
    "[https://ai.facebook.com/blog/roberta-an-optimized-method-for-pretraining-self-supervised-nlp-systems/](https://ai.facebook.com/blog/roberta-an-optimized-method-for-pretraining-self-supervised-nlp-systems/)\n",
    "\n",
    "[https://arxiv.org/abs/1907.11692](https://arxiv.org/abs/1907.11692)"
   ]
  },
  {
   "cell_type": "code",
   "execution_count": 31,
   "id": "84a75108-6dfc-43e8-946f-e1270992ee4b",
   "metadata": {},
   "outputs": [
    {
     "name": "stderr",
     "output_type": "stream",
     "text": [
      "All model checkpoint layers were used when initializing TFRobertaForSequenceClassification.\n",
      "\n",
      "All the layers of TFRobertaForSequenceClassification were initialized from the model checkpoint at cardiffnlp/twitter-roberta-base-sentiment.\n",
      "If your task is similar to the task the model of the checkpoint was trained on, you can already use TFRobertaForSequenceClassification for predictions without further training.\n"
     ]
    }
   ],
   "source": [
    "model_name = \"cardiffnlp/twitter-roberta-base-sentiment\"\n",
    "tokenizer = AutoTokenizer.from_pretrained(model_name)\n",
    "model = TFAutoModelForSequenceClassification.from_pretrained(model_name)"
   ]
  },
  {
   "cell_type": "markdown",
   "id": "2b97ee98-6d85-4f3a-925d-7723342cb186",
   "metadata": {},
   "source": [
    "### Getting roBERTa predictions"
   ]
  },
  {
   "cell_type": "code",
   "execution_count": 32,
   "id": "5bad936c-9f45-4ddd-a134-b6c8a6283873",
   "metadata": {},
   "outputs": [
    {
     "name": "stdout",
     "output_type": "stream",
     "text": [
      "Very happy to find a yummy peanut butter that is still healthy. Shopping for groceries used to be fun, now I have to check everything I buy for gmo, or harmful ingredients. The whole family loves this peanut butter, so win win!\n",
      "{'roberta_neg': 0.008967283, 'roberta_neu': 0.029506335, 'roberta_pos': 0.9615264}\n"
     ]
    }
   ],
   "source": [
    "def polarity_scores_roberta(example):\n",
    "    encoded_text = tokenizer(example, return_tensors = \"tf\")\n",
    "    output = model(**encoded_text)\n",
    "    scores = output[0][0].numpy()\n",
    "    scores = softmax(scores)\n",
    "    scores_dict = {\n",
    "        \"roberta_neg\" : scores[0],\n",
    "        \"roberta_neu\" : scores[1],\n",
    "        \"roberta_pos\" : scores[2]\n",
    "    }\n",
    "    return scores_dict\n",
    "\n",
    "print(example)\n",
    "print(polarity_scores_roberta(example))"
   ]
  },
  {
   "cell_type": "markdown",
   "id": "03baa806-94a0-4d8b-9084-c1f3df2c7deb",
   "metadata": {},
   "source": [
    "### Sentiment Analysis in 3 lines of code"
   ]
  },
  {
   "cell_type": "code",
   "execution_count": 33,
   "id": "1efeedd4-02bf-4487-b32b-384072f891e2",
   "metadata": {},
   "outputs": [
    {
     "name": "stderr",
     "output_type": "stream",
     "text": [
      "No model was supplied, defaulted to distilbert-base-uncased-finetuned-sst-2-english and revision af0f99b (https://huggingface.co/distilbert-base-uncased-finetuned-sst-2-english).\n",
      "Using a pipeline without specifying a model name and revision in production is not recommended.\n",
      "Some layers from the model checkpoint at distilbert-base-uncased-finetuned-sst-2-english were not used when initializing TFDistilBertForSequenceClassification: ['dropout_19']\n",
      "- This IS expected if you are initializing TFDistilBertForSequenceClassification from the checkpoint of a model trained on another task or with another architecture (e.g. initializing a BertForSequenceClassification model from a BertForPreTraining model).\n",
      "- This IS NOT expected if you are initializing TFDistilBertForSequenceClassification from the checkpoint of a model that you expect to be exactly identical (initializing a BertForSequenceClassification model from a BertForSequenceClassification model).\n",
      "Some layers of TFDistilBertForSequenceClassification were not initialized from the model checkpoint at distilbert-base-uncased-finetuned-sst-2-english and are newly initialized: ['dropout_57']\n",
      "You should probably TRAIN this model on a down-stream task to be able to use it for predictions and inference.\n"
     ]
    },
    {
     "data": {
      "text/plain": [
       "[{'label': 'POSITIVE', 'score': 0.9996678829193115}]"
      ]
     },
     "execution_count": 33,
     "metadata": {},
     "output_type": "execute_result"
    }
   ],
   "source": [
    "from transformers import pipeline\n",
    "\n",
    "sent_pipeline = pipeline(\"sentiment-analysis\")\n",
    "sent_pipeline(example)"
   ]
  },
  {
   "cell_type": "code",
   "execution_count": null,
   "id": "c459f975-3a78-4e6e-ab45-11f9321f4c3f",
   "metadata": {},
   "outputs": [],
   "source": []
  }
 ],
 "metadata": {
  "kernelspec": {
   "display_name": "Python 3 (ipykernel)",
   "language": "python",
   "name": "python3"
  },
  "language_info": {
   "codemirror_mode": {
    "name": "ipython",
    "version": 3
   },
   "file_extension": ".py",
   "mimetype": "text/x-python",
   "name": "python",
   "nbconvert_exporter": "python",
   "pygments_lexer": "ipython3",
   "version": "3.10.8"
  }
 },
 "nbformat": 4,
 "nbformat_minor": 5
}
